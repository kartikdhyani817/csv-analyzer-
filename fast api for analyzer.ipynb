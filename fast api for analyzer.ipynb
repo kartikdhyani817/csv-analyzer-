{
 "cells": [
  {
   "cell_type": "code",
   "execution_count": 1,
   "id": "92ca6ba3-3f8b-42e6-a575-3df66013bed7",
   "metadata": {},
   "outputs": [
    {
     "name": "stdout",
     "output_type": "stream",
     "text": [
      "Collecting fastapi\n",
      "  Downloading fastapi-0.116.1-py3-none-any.whl.metadata (28 kB)\n",
      "Requirement already satisfied: uvicorn in c:\\users\\hp\\anaconda3\\lib\\site-packages (0.35.0)\n",
      "Requirement already satisfied: nest_asyncio in c:\\users\\hp\\anaconda3\\lib\\site-packages (1.6.0)\n",
      "Collecting python-multipart\n",
      "  Downloading python_multipart-0.0.20-py3-none-any.whl.metadata (1.8 kB)\n",
      "Requirement already satisfied: pandas in c:\\users\\hp\\anaconda3\\lib\\site-packages (2.2.3)\n",
      "Requirement already satisfied: ollama in c:\\users\\hp\\anaconda3\\lib\\site-packages (0.5.1)\n",
      "Collecting starlette<0.48.0,>=0.40.0 (from fastapi)\n",
      "  Downloading starlette-0.47.2-py3-none-any.whl.metadata (6.2 kB)\n",
      "Requirement already satisfied: pydantic!=1.8,!=1.8.1,!=2.0.0,!=2.0.1,!=2.1.0,<3.0.0,>=1.7.4 in c:\\users\\hp\\anaconda3\\lib\\site-packages (from fastapi) (2.10.3)\n",
      "Requirement already satisfied: typing-extensions>=4.8.0 in c:\\users\\hp\\anaconda3\\lib\\site-packages (from fastapi) (4.12.2)\n",
      "Requirement already satisfied: annotated-types>=0.6.0 in c:\\users\\hp\\anaconda3\\lib\\site-packages (from pydantic!=1.8,!=1.8.1,!=2.0.0,!=2.0.1,!=2.1.0,<3.0.0,>=1.7.4->fastapi) (0.6.0)\n",
      "Requirement already satisfied: pydantic-core==2.27.1 in c:\\users\\hp\\anaconda3\\lib\\site-packages (from pydantic!=1.8,!=1.8.1,!=2.0.0,!=2.0.1,!=2.1.0,<3.0.0,>=1.7.4->fastapi) (2.27.1)\n",
      "Requirement already satisfied: anyio<5,>=3.6.2 in c:\\users\\hp\\anaconda3\\lib\\site-packages (from starlette<0.48.0,>=0.40.0->fastapi) (4.7.0)\n",
      "Requirement already satisfied: idna>=2.8 in c:\\users\\hp\\anaconda3\\lib\\site-packages (from anyio<5,>=3.6.2->starlette<0.48.0,>=0.40.0->fastapi) (3.7)\n",
      "Requirement already satisfied: sniffio>=1.1 in c:\\users\\hp\\anaconda3\\lib\\site-packages (from anyio<5,>=3.6.2->starlette<0.48.0,>=0.40.0->fastapi) (1.3.0)\n",
      "Requirement already satisfied: click>=7.0 in c:\\users\\hp\\anaconda3\\lib\\site-packages (from uvicorn) (8.1.8)\n",
      "Requirement already satisfied: h11>=0.8 in c:\\users\\hp\\anaconda3\\lib\\site-packages (from uvicorn) (0.16.0)\n",
      "Requirement already satisfied: numpy>=1.26.0 in c:\\users\\hp\\anaconda3\\lib\\site-packages (from pandas) (2.1.3)\n",
      "Requirement already satisfied: python-dateutil>=2.8.2 in c:\\users\\hp\\anaconda3\\lib\\site-packages (from pandas) (2.9.0.post0)\n",
      "Requirement already satisfied: pytz>=2020.1 in c:\\users\\hp\\anaconda3\\lib\\site-packages (from pandas) (2024.1)\n",
      "Requirement already satisfied: tzdata>=2022.7 in c:\\users\\hp\\anaconda3\\lib\\site-packages (from pandas) (2025.2)\n",
      "Requirement already satisfied: httpx>=0.27 in c:\\users\\hp\\anaconda3\\lib\\site-packages (from ollama) (0.28.1)\n",
      "Requirement already satisfied: colorama in c:\\users\\hp\\anaconda3\\lib\\site-packages (from click>=7.0->uvicorn) (0.4.6)\n",
      "Requirement already satisfied: certifi in c:\\users\\hp\\anaconda3\\lib\\site-packages (from httpx>=0.27->ollama) (2025.7.14)\n",
      "Requirement already satisfied: httpcore==1.* in c:\\users\\hp\\anaconda3\\lib\\site-packages (from httpx>=0.27->ollama) (1.0.9)\n",
      "Requirement already satisfied: six>=1.5 in c:\\users\\hp\\anaconda3\\lib\\site-packages (from python-dateutil>=2.8.2->pandas) (1.17.0)\n",
      "Downloading fastapi-0.116.1-py3-none-any.whl (95 kB)\n",
      "Downloading starlette-0.47.2-py3-none-any.whl (72 kB)\n",
      "Downloading python_multipart-0.0.20-py3-none-any.whl (24 kB)\n",
      "Installing collected packages: python-multipart, starlette, fastapi\n",
      "\n",
      "   ------------- -------------------------- 1/3 [starlette]\n",
      "   -------------------------- ------------- 2/3 [fastapi]\n",
      "   -------------------------- ------------- 2/3 [fastapi]\n",
      "   ---------------------------------------- 3/3 [fastapi]\n",
      "\n",
      "Successfully installed fastapi-0.116.1 python-multipart-0.0.20 starlette-0.47.2\n"
     ]
    }
   ],
   "source": [
    "\n",
    "!pip install fastapi uvicorn nest_asyncio python-multipart pandas ollama\n"
   ]
  },
  {
   "cell_type": "code",
   "execution_count": 2,
   "id": "14a72a9b-d4ad-4199-920f-f1b4dd11fa1f",
   "metadata": {},
   "outputs": [],
   "source": [
    "import nest_asyncio\n",
    "import uvicorn\n",
    "from fastapi import FastAPI, File, UploadFile\n",
    "from io import StringIO\n",
    "import pandas as pd\n",
    "import ollama\n",
    "\n",
    "# Allow FastAPI to run inside Jupyter\n",
    "nest_asyncio.apply()\n"
   ]
  },
  {
   "cell_type": "code",
   "execution_count": 3,
   "id": "e373a330-90b4-491f-9d92-16ef2768b62e",
   "metadata": {},
   "outputs": [],
   "source": [
    "client = ollama.Client(host='http://127.0.0.1:11434')  # Change host if needed \n",
    "\n",
    "def summarize_csv(df: pd.DataFrame, max_rows=5):\n",
    "    summary = f\"The dataset has {df.shape[0]} rows and {df.shape[1]} columns.\\n\\n\"\n",
    "    summary += \"Columns:\\n\"\n",
    "    for col in df.columns:\n",
    "        summary += f\"- {col} (type: {df[col].dtype})\\n\"\n",
    "    sample = df.head(max_rows).to_csv(index=False)\n",
    "    return summary + \"\\nSample data:\\n\" + sample\n",
    "\n",
    "def ask_ollama(question, context, df):\n",
    "    sales_total = None\n",
    "    for col in df.columns:\n",
    "        if 'sale' in col.lower():\n",
    "            try:\n",
    "                sales_total = df[col].astype(float).sum()\n",
    "            except:\n",
    "                pass\n",
    "            break\n",
    "\n",
    "    sales_info = f\"\\n\\nTotal Sales (calculated): {sales_total}\" if sales_total is not None else \"\"\n",
    "    prompt = f\"\"\"You are a data analyst. Here's a dataset summary and a sample:\\n\\n{context}{sales_info}\\n\\nNow answer this question about the dataset: {question}\"\"\"\n",
    "\n",
    "    response = client.chat(model=\"llama3\", messages=[\n",
    "        {\"role\": \"user\", \"content\": prompt}\n",
    "    ])\n",
    "    return response[\"message\"][\"content\"]\n"
   ]
  },
  {
   "cell_type": "code",
   "execution_count": 4,
   "id": "bfe8e8a4-66d9-45de-bade-0d365ca031d5",
   "metadata": {},
   "outputs": [],
   "source": [
    "app = FastAPI()\n",
    "\n",
    "@app.post(\"/analyze_csv/\")\n",
    "async def analyze_csv(file: UploadFile = File(...), question: str = \"What are the key insights?\"):\n",
    "    try:\n",
    "        content = await file.read()\n",
    "        df = pd.read_csv(StringIO(content.decode(\"utf-8\")))\n",
    "\n",
    "        summary = summarize_csv(df)\n",
    "        result = ask_ollama(question, summary, df)\n",
    "\n",
    "        return {\n",
    "            \"status\": \"success\",\n",
    "            \"question\": question,\n",
    "            \"summary\": summary,\n",
    "            \"response\": result\n",
    "        }\n",
    "\n",
    "    except Exception as e:\n",
    "        return {\"status\": \"error\", \"message\": str(e)}\n"
   ]
  },
  {
   "cell_type": "code",
   "execution_count": null,
   "id": "8ec499de-bdb1-4c4e-bbe3-a57c5ee53998",
   "metadata": {},
   "outputs": [
    {
     "name": "stderr",
     "output_type": "stream",
     "text": [
      "INFO:     Started server process [6696]\n",
      "INFO:     Waiting for application startup.\n",
      "INFO:     Application startup complete.\n",
      "INFO:     Uvicorn running on http://0.0.0.0:8000 (Press CTRL+C to quit)\n"
     ]
    },
    {
     "name": "stdout",
     "output_type": "stream",
     "text": [
      "INFO:     127.0.0.1:57063 - \"GET /docs HTTP/1.1\" 200 OK\n",
      "INFO:     127.0.0.1:57063 - \"GET /openapi.json HTTP/1.1\" 200 OK\n"
     ]
    }
   ],
   "source": [
    "uvicorn.run(app, host=\"0.0.0.0\", port=8000)\n"
   ]
  },
  {
   "cell_type": "code",
   "execution_count": null,
   "id": "74ed9e00-5233-4784-9235-ea6ed16e0085",
   "metadata": {},
   "outputs": [],
   "source": []
  },
  {
   "cell_type": "code",
   "execution_count": null,
   "id": "4201cd32-6b30-4891-ae1d-064bca5e81d8",
   "metadata": {},
   "outputs": [],
   "source": []
  }
 ],
 "metadata": {
  "kernelspec": {
   "display_name": "Python [conda env:base] *",
   "language": "python",
   "name": "conda-base-py"
  },
  "language_info": {
   "codemirror_mode": {
    "name": "ipython",
    "version": 3
   },
   "file_extension": ".py",
   "mimetype": "text/x-python",
   "name": "python",
   "nbconvert_exporter": "python",
   "pygments_lexer": "ipython3",
   "version": "3.13.5"
  }
 },
 "nbformat": 4,
 "nbformat_minor": 5
}
